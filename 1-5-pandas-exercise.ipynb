{
 "cells": [
  {
   "cell_type": "code",
   "execution_count": 1,
   "id": "f6ead3f9-d624-4ad5-a18b-763730c7e9be",
   "metadata": {},
   "outputs": [],
   "source": [
    "import numpy as np\n",
    "import pandas as pd"
   ]
  },
  {
   "cell_type": "markdown",
   "id": "e8b94125-58ab-4bd0-87ee-709a3072dc43",
   "metadata": {},
   "source": [
    "# 1. Creating a Series"
   ]
  },
  {
   "cell_type": "markdown",
   "id": "89adc440-467e-4aff-852c-5d3b756c0cac",
   "metadata": {},
   "source": [
    "## Write a Pandas program to create and display a one-dimensional array-like object containing an array of data using Pandas module"
   ]
  },
  {
   "cell_type": "code",
   "execution_count": 2,
   "id": "b805c27c-42fb-49ac-84de-9d7bf051dcde",
   "metadata": {},
   "outputs": [],
   "source": [
    "pd_series = pd.Series([1,2,3])"
   ]
  },
  {
   "cell_type": "code",
   "execution_count": 3,
   "id": "acbeda30-c93c-4f16-9284-b9e46c11b9a8",
   "metadata": {},
   "outputs": [
    {
     "data": {
      "text/plain": [
       "0    1\n",
       "1    2\n",
       "2    3\n",
       "dtype: int64"
      ]
     },
     "execution_count": 3,
     "metadata": {},
     "output_type": "execute_result"
    }
   ],
   "source": [
    "pd_series"
   ]
  },
  {
   "cell_type": "markdown",
   "id": "d6828b3b-a02a-49ad-8c07-3234180a1c29",
   "metadata": {},
   "source": [
    "# Write a Pandas program to create a Series from a list containing different data types and then filter out elements of a specific type."
   ]
  },
  {
   "cell_type": "code",
   "execution_count": 41,
   "id": "b0368f87-a8ad-4fcf-a6da-8782094dfc08",
   "metadata": {},
   "outputs": [
    {
     "name": "stdout",
     "output_type": "stream",
     "text": [
      "Original series 0        1\n",
      "1        2\n",
      "2        4\n",
      "3    hello\n",
      "4      6.4\n",
      "5        8\n",
      "6     True\n",
      "7    False\n",
      "dtype: object\n",
      "Boolean array [True, False]\n",
      "Integer array [1, 2, 4, 8, True, False]\n",
      "String array ['hello']\n"
     ]
    }
   ],
   "source": [
    "pd_ser = pd.Series([1,2,4,'hello',6.4,8, True, False])\n",
    "print('Original series',pd_ser)\n",
    "bool_arr = list(filter(lambda x: isinstance(x, bool), pd_ser))\n",
    "int_arr = list(filter(lambda x: isinstance(x, int), pd_ser)) # isinstancce(True,int) is treated like int 1 for True, 0 for False\n",
    "str_arr = list(filter(lambda x: isinstance(x, str), pd_ser))\n",
    "print('Boolean array',bool_arr)\n",
    "print('Integer array', int_arr)\n",
    "print('String array', str_arr)"
   ]
  },
  {
   "cell_type": "markdown",
   "id": "0af041fe-d36d-4a8b-9c67-9ffca7872e11",
   "metadata": {},
   "source": [
    "# 2. Series to List Conversion"
   ]
  },
  {
   "cell_type": "markdown",
   "id": "0f6de368-308e-495a-a339-355c85139896",
   "metadata": {},
   "source": [
    "## Write a Pandas program to convert a Panda module Series to Python list and it's type."
   ]
  },
  {
   "cell_type": "code",
   "execution_count": 49,
   "id": "c5c6d4fb-f93c-4e71-ae2c-76cc8d1ecf43",
   "metadata": {},
   "outputs": [
    {
     "name": "stdout",
     "output_type": "stream",
     "text": [
      "Pandas series 0    3\n",
      "1    4\n",
      "2    5\n",
      "3    6\n",
      "dtype: int64\n",
      "Type of pandas series <class 'pandas.core.series.Series'>\n",
      "Python list [3, 4, 5, 6]\n",
      "Type of list <class 'list'>\n"
     ]
    }
   ],
   "source": [
    "pd_ser = pd.Series([3,4,5,6])\n",
    "print('Pandas series',pd_ser)\n",
    "print('Type of pandas series',type(pd_ser))\n",
    "py_list = pd_ser.tolist()\n",
    "print('Python list',py_list)\n",
    "print('Type of list',type(py_list))"
   ]
  },
  {
   "cell_type": "markdown",
   "id": "62e0fe04-f6bc-4497-ba15-b12360ff8b47",
   "metadata": {},
   "source": [
    "# 3. Series Arithmetic"
   ]
  },
  {
   "cell_type": "markdown",
   "id": "6bcde56d-0786-40a1-a13b-cd806cb6887a",
   "metadata": {},
   "source": [
    "## Write a Pandas program to add, subtract, multiple and divide two Pandas Series."
   ]
  },
  {
   "cell_type": "code",
   "execution_count": 56,
   "id": "fafe93c0-1f22-481e-a3f6-18457bfb07af",
   "metadata": {},
   "outputs": [
    {
     "name": "stdout",
     "output_type": "stream",
     "text": [
      "Series 1\n",
      "0     2\n",
      "1     4\n",
      "2     6\n",
      "3     8\n",
      "4    10\n",
      "dtype: int64\n",
      "Series 2\n",
      "0    1\n",
      "1    3\n",
      "2    5\n",
      "3    7\n",
      "4    9\n",
      "dtype: int64\n",
      "Addition\n",
      "0     3\n",
      "1     7\n",
      "2    11\n",
      "3    15\n",
      "4    19\n",
      "dtype: int64\n",
      "Subtraction\n",
      "0    1\n",
      "1    1\n",
      "2    1\n",
      "3    1\n",
      "4    1\n",
      "dtype: int64\n",
      "Multiplication\n",
      "0     2\n",
      "1    12\n",
      "2    30\n",
      "3    56\n",
      "4    90\n",
      "dtype: int64\n",
      "Division\n",
      "0    2.000000\n",
      "1    1.333333\n",
      "2    1.200000\n",
      "3    1.142857\n",
      "4    1.111111\n",
      "dtype: float64\n"
     ]
    }
   ],
   "source": [
    "pd_ser1 = pd.Series([2, 4, 6, 8, 10])\n",
    "pd_ser2 = pd.Series([1, 3, 5, 7, 9])\n",
    "print('Series 1')\n",
    "print(pd_ser1)\n",
    "print('Series 2')\n",
    "print(pd_ser2)\n",
    "print('Addition')\n",
    "print(pd_ser1+pd_ser2)\n",
    "print('Subtraction')\n",
    "print(pd_ser1-pd_ser2)\n",
    "print('Multiplication')\n",
    "print(pd_ser1*pd_ser2)\n",
    "print('Division')\n",
    "print(pd_ser1/pd_ser2)"
   ]
  },
  {
   "cell_type": "markdown",
   "id": "46928c70-208c-4933-aa8a-bb66ebaea7a4",
   "metadata": {},
   "source": [
    "# 4. Series Comparison"
   ]
  },
  {
   "cell_type": "markdown",
   "id": "ab17f8c5-3af8-4f2e-97b1-31e42430db15",
   "metadata": {},
   "source": [
    "## Write a Pandas program to compare the elements of the two Pandas Series."
   ]
  },
  {
   "cell_type": "code",
   "execution_count": 60,
   "id": "a05f5d76-ea2d-40b9-b55e-c06add843829",
   "metadata": {},
   "outputs": [
    {
     "name": "stdout",
     "output_type": "stream",
     "text": [
      "Series 1\n",
      "0     2\n",
      "1     4\n",
      "2     6\n",
      "3     8\n",
      "4    10\n",
      "dtype: int64\n",
      "Series 2\n",
      "0     1\n",
      "1     3\n",
      "2     5\n",
      "3     7\n",
      "4    10\n",
      "dtype: int64\n",
      "Equal\n",
      "0    False\n",
      "1    False\n",
      "2    False\n",
      "3    False\n",
      "4     True\n",
      "dtype: bool\n",
      "Check if Series1 is greater than Series2\n",
      "0     True\n",
      "1     True\n",
      "2     True\n",
      "3     True\n",
      "4    False\n",
      "dtype: bool\n",
      "Check if Series2 is greater than Series1\n",
      "0    False\n",
      "1    False\n",
      "2    False\n",
      "3    False\n",
      "4    False\n",
      "dtype: bool\n"
     ]
    }
   ],
   "source": [
    "pd_ser1 = pd.Series([2, 4, 6, 8, 10])\n",
    "pd_ser2 = pd.Series([1, 3, 5, 7, 10])\n",
    "print('Series 1')\n",
    "print(pd_ser1)\n",
    "print('Series 2')\n",
    "print(pd_ser2)\n",
    "print('Equal')\n",
    "print(pd_ser1 == pd_ser2)\n",
    "print('Check if Series1 is greater than Series2')\n",
    "print(pd_ser1>pd_ser2)\n",
    "print('Check if Series2 is greater than Series1')\n",
    "print(pd_ser2>pd_ser1)"
   ]
  },
  {
   "cell_type": "markdown",
   "id": "91e95937-a2e5-46a2-a77f-bd694a62bc4d",
   "metadata": {},
   "source": [
    "# 5. Dict to Series"
   ]
  },
  {
   "cell_type": "markdown",
   "id": "ebd9df00-7610-4b65-ac35-95c38f56f23c",
   "metadata": {},
   "source": [
    "## Write a Pandas program to convert a dictionary to a Pandas series."
   ]
  },
  {
   "cell_type": "code",
   "execution_count": 61,
   "id": "e5966bc4-fbe2-4655-b8dd-b21169d38b41",
   "metadata": {},
   "outputs": [
    {
     "name": "stdout",
     "output_type": "stream",
     "text": [
      "a    1\n",
      "b    2\n",
      "c    3\n",
      "d    4\n",
      "dtype: int64\n"
     ]
    }
   ],
   "source": [
    "pd_dict = pd.Series({'a':1,'b':2,'c':3,'d':4})\n",
    "print(pd_dict)"
   ]
  },
  {
   "cell_type": "code",
   "execution_count": null,
   "id": "4dbddfa8-0ca4-4c65-8be9-de586147f3fa",
   "metadata": {},
   "outputs": [],
   "source": []
  }
 ],
 "metadata": {
  "kernelspec": {
   "display_name": "Python 3 (ipykernel)",
   "language": "python",
   "name": "python3"
  },
  "language_info": {
   "codemirror_mode": {
    "name": "ipython",
    "version": 3
   },
   "file_extension": ".py",
   "mimetype": "text/x-python",
   "name": "python",
   "nbconvert_exporter": "python",
   "pygments_lexer": "ipython3",
   "version": "3.8.10"
  }
 },
 "nbformat": 4,
 "nbformat_minor": 5
}
