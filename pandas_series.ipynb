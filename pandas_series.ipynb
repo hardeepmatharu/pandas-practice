{
 "cells": [
  {
   "cell_type": "markdown",
   "id": "2a910d5a-b20b-4599-af26-5771c9f4faf7",
   "metadata": {},
   "source": [
    "# Pandas stands for Panel Data, core library for data manipulation and data analysis "
   ]
  },
  {
   "cell_type": "code",
   "execution_count": 2,
   "id": "d9e7bce4-a8c9-4335-96cf-e818a31e065c",
   "metadata": {},
   "outputs": [],
   "source": [
    "import pandas as pd"
   ]
  },
  {
   "cell_type": "markdown",
   "id": "cee7915c-fdff-48e3-bf14-4fe221dc7746",
   "metadata": {},
   "source": [
    "## Series(1D array in Pandas)"
   ]
  },
  {
   "cell_type": "code",
   "execution_count": 3,
   "id": "619dee5b-644d-40a9-ad7c-b40d7c4586a9",
   "metadata": {},
   "outputs": [
    {
     "data": {
      "text/plain": [
       "0    1\n",
       "1    2\n",
       "2    3\n",
       "3    4\n",
       "4    5\n",
       "dtype: int64"
      ]
     },
     "execution_count": 3,
     "metadata": {},
     "output_type": "execute_result"
    }
   ],
   "source": [
    "s1 = pd.Series([1,2,3,4,5])\n",
    "s1"
   ]
  },
  {
   "cell_type": "markdown",
   "id": "acd706c2-5d4f-4c2e-a1db-ce63dfbf6eb8",
   "metadata": {},
   "source": [
    "# Change index in Pandas Series"
   ]
  },
  {
   "cell_type": "code",
   "execution_count": 4,
   "id": "18c86f94-6e21-4eca-a30a-61d03eacada9",
   "metadata": {},
   "outputs": [
    {
     "data": {
      "text/plain": [
       "a    1\n",
       "b    2\n",
       "c    3\n",
       "d    4\n",
       "dtype: int64"
      ]
     },
     "execution_count": 4,
     "metadata": {},
     "output_type": "execute_result"
    }
   ],
   "source": [
    "s1 = pd.Series([1,2,3,4], index = ['a','b','c','d'])\n",
    "s1"
   ]
  },
  {
   "cell_type": "markdown",
   "id": "88133dfd-2ffc-459a-9045-e1b161faed21",
   "metadata": {},
   "source": [
    "# Series with dictionary"
   ]
  },
  {
   "cell_type": "code",
   "execution_count": 5,
   "id": "e448e23d-7f47-40c4-8179-2f0fd602407e",
   "metadata": {},
   "outputs": [
    {
     "data": {
      "text/plain": [
       "a    1\n",
       "b    2\n",
       "c    3\n",
       "dtype: object"
      ]
     },
     "execution_count": 5,
     "metadata": {},
     "output_type": "execute_result"
    }
   ],
   "source": [
    "s1 = pd.Series({'a':'1','b':'2','c':'3'})\n",
    "s1"
   ]
  },
  {
   "cell_type": "markdown",
   "id": "e580d9e2-539d-44bf-b5b4-db27eb3f5616",
   "metadata": {},
   "source": [
    "# Pandas Series with new index in dictionary"
   ]
  },
  {
   "cell_type": "code",
   "execution_count": 6,
   "id": "cb69dbe7-2607-48ef-8bde-3422673fea18",
   "metadata": {},
   "outputs": [
    {
     "data": {
      "text/plain": [
       "a      1\n",
       "b      2\n",
       "c      3\n",
       "d    NaN\n",
       "dtype: object"
      ]
     },
     "execution_count": 6,
     "metadata": {},
     "output_type": "execute_result"
    }
   ],
   "source": [
    "s1 = pd.Series({'a':'1','b':'2','c':'3'}, index=['a','b','c','d'])\n",
    "s1"
   ]
  },
  {
   "cell_type": "markdown",
   "id": "3b824a49-6686-4c28-aca8-83678df5e02f",
   "metadata": {},
   "source": [
    "# Extracting a single element from pandas series"
   ]
  },
  {
   "cell_type": "raw",
   "id": "d6c22951-1a46-45b0-98ed-c3952577080b",
   "metadata": {},
   "source": [
    "s1 = pd.Series([1,2,3,4,5,6,7])\n",
    "s1[3]"
   ]
  },
  {
   "cell_type": "markdown",
   "id": "b3b8779b-6012-43a0-9fda-40c54e13043b",
   "metadata": {},
   "source": [
    "# Extracting a sequence from Pandas series"
   ]
  },
  {
   "cell_type": "code",
   "execution_count": 10,
   "id": "95d625f3-afb6-4875-a31e-1c8498b90e11",
   "metadata": {},
   "outputs": [
    {
     "data": {
      "text/plain": [
       "0    1\n",
       "1    2\n",
       "2    3\n",
       "3    4\n",
       "dtype: int64"
      ]
     },
     "execution_count": 10,
     "metadata": {},
     "output_type": "execute_result"
    }
   ],
   "source": [
    "s1 = pd.Series([1,2,3,4,5,6])\n",
    "s1[:4] # form starting to index 3, as 4 is excluded"
   ]
  },
  {
   "cell_type": "code",
   "execution_count": 12,
   "id": "dacc375b-e853-499a-b7aa-dd58f23bff72",
   "metadata": {},
   "outputs": [
    {
     "data": {
      "text/plain": [
       "2    3\n",
       "3    4\n",
       "dtype: int64"
      ]
     },
     "execution_count": 12,
     "metadata": {},
     "output_type": "execute_result"
    }
   ],
   "source": [
    "s1 = pd.Series([1,2,3,4,5,6])\n",
    "s1[2:4] #extract from index 2 to 3 as 4 is excluded"
   ]
  },
  {
   "cell_type": "code",
   "execution_count": 13,
   "id": "1fdd63d8-eed2-4a07-a53d-bb4c4f6a9aad",
   "metadata": {},
   "outputs": [
    {
     "data": {
      "text/plain": [
       "2    3\n",
       "3    4\n",
       "4    5\n",
       "dtype: int64"
      ]
     },
     "execution_count": 13,
     "metadata": {},
     "output_type": "execute_result"
    }
   ],
   "source": [
    "s1 = pd.Series([1,2,3,4,5])\n",
    "s1[-3:] # negative means from the end, till the index given, as index is a first positon so it is included"
   ]
  },
  {
   "cell_type": "markdown",
   "id": "5a46ac72-51d1-4eb4-82da-3b07e3e4cfc1",
   "metadata": {},
   "source": [
    "# Arithmetic operations on the Pandas Series "
   ]
  },
  {
   "cell_type": "code",
   "execution_count": 15,
   "id": "aa5a1459-a173-4a01-a850-65df079d1925",
   "metadata": {},
   "outputs": [
    {
     "data": {
      "text/plain": [
       "0     6\n",
       "1     7\n",
       "2     8\n",
       "3     9\n",
       "4    10\n",
       "dtype: int64"
      ]
     },
     "execution_count": 15,
     "metadata": {},
     "output_type": "execute_result"
    }
   ],
   "source": [
    "s1 = pd.Series([1,2,3,4,5])\n",
    "s1+5 # adding 5 into each element of the Series"
   ]
  },
  {
   "cell_type": "code",
   "execution_count": 17,
   "id": "7adf45d9-2800-4e4e-a2c0-210b7e358551",
   "metadata": {},
   "outputs": [
    {
     "data": {
      "text/plain": [
       "0     5\n",
       "1    15\n",
       "2    25\n",
       "dtype: int64"
      ]
     },
     "execution_count": 17,
     "metadata": {},
     "output_type": "execute_result"
    }
   ],
   "source": [
    "s1 = pd.Series([10,20,30])\n",
    "s1-5 #subtracitng 5 from each element of the Series"
   ]
  },
  {
   "cell_type": "code",
   "execution_count": 19,
   "id": "cc0fe922-4634-4799-8505-2f098c750a78",
   "metadata": {},
   "outputs": [
    {
     "data": {
      "text/plain": [
       "0    100\n",
       "1    200\n",
       "2    300\n",
       "dtype: int64"
      ]
     },
     "execution_count": 19,
     "metadata": {},
     "output_type": "execute_result"
    }
   ],
   "source": [
    "s1 = pd.Series([10,20,30])\n",
    "s1*10 #multiple 10 with each element of the Series"
   ]
  },
  {
   "cell_type": "code",
   "execution_count": 21,
   "id": "804194a8-2973-4582-9ebc-a27022a9442a",
   "metadata": {},
   "outputs": [
    {
     "data": {
      "text/plain": [
       "0    1.0\n",
       "1    2.0\n",
       "2    3.0\n",
       "dtype: float64"
      ]
     },
     "execution_count": 21,
     "metadata": {},
     "output_type": "execute_result"
    }
   ],
   "source": [
    "s1 = pd.Series([10,20,30])\n",
    "s1/10 #divide each element of the series by 10"
   ]
  },
  {
   "cell_type": "markdown",
   "id": "79c06bc2-5128-4539-81df-79b2dbdce64d",
   "metadata": {},
   "source": [
    "# Adding elements of 2 pandas series"
   ]
  },
  {
   "cell_type": "code",
   "execution_count": 22,
   "id": "649216b0-ac98-4a73-87e2-83e8aa45d7bc",
   "metadata": {},
   "outputs": [
    {
     "data": {
      "text/plain": [
       "0    11\n",
       "1    22\n",
       "2    33\n",
       "3    44\n",
       "dtype: int64"
      ]
     },
     "execution_count": 22,
     "metadata": {},
     "output_type": "execute_result"
    }
   ],
   "source": [
    "s1 = pd.Series([1,2,3,4])\n",
    "s2 = pd.Series([10,20,30,40])\n",
    "s1+s2"
   ]
  },
  {
   "cell_type": "code",
   "execution_count": 24,
   "id": "6a9fd620-c537-4cbb-98eb-aa0bbf2ca8ea",
   "metadata": {},
   "outputs": [
    {
     "data": {
      "text/plain": [
       "0    -9\n",
       "1   -18\n",
       "2   -27\n",
       "3   -36\n",
       "dtype: int64"
      ]
     },
     "execution_count": 24,
     "metadata": {},
     "output_type": "execute_result"
    }
   ],
   "source": [
    "s1 - s2 # subtracting one series from the other"
   ]
  },
  {
   "cell_type": "code",
   "execution_count": 25,
   "id": "02c7583f-5449-4f20-82ed-78177c461944",
   "metadata": {},
   "outputs": [
    {
     "data": {
      "text/plain": [
       "0     10\n",
       "1     40\n",
       "2     90\n",
       "3    160\n",
       "dtype: int64"
      ]
     },
     "execution_count": 25,
     "metadata": {},
     "output_type": "execute_result"
    }
   ],
   "source": [
    "s1*s2 # multiply each element of the series"
   ]
  },
  {
   "cell_type": "code",
   "execution_count": null,
   "id": "882bb64a-b112-4210-9a33-55bb7985aca3",
   "metadata": {},
   "outputs": [],
   "source": []
  }
 ],
 "metadata": {
  "kernelspec": {
   "display_name": "Python 3 (ipykernel)",
   "language": "python",
   "name": "python3"
  },
  "language_info": {
   "codemirror_mode": {
    "name": "ipython",
    "version": 3
   },
   "file_extension": ".py",
   "mimetype": "text/x-python",
   "name": "python",
   "nbconvert_exporter": "python",
   "pygments_lexer": "ipython3",
   "version": "3.8.10"
  }
 },
 "nbformat": 4,
 "nbformat_minor": 5
}
