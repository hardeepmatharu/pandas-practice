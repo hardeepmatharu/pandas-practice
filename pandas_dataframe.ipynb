{
 "cells": [
  {
   "cell_type": "code",
   "execution_count": 1,
   "id": "d21c177c-3eaf-4925-b12d-65a7e736a4bd",
   "metadata": {},
   "outputs": [],
   "source": [
    "import pandas as pd"
   ]
  },
  {
   "cell_type": "markdown",
   "id": "d7e5e15e-e4a7-4fc8-a1fa-998bd895d4e8",
   "metadata": {},
   "source": [
    "# Create a dataframe, dataframe is a 2D array."
   ]
  },
  {
   "cell_type": "markdown",
   "id": "5e892131-f03d-467b-947b-7d8527a9dc8a",
   "metadata": {},
   "source": [
    "# Create a dataframe from dictionary"
   ]
  },
  {
   "cell_type": "code",
   "execution_count": null,
   "id": "538e2fd6-3a42-44f3-b795-bc8b49f24da0",
   "metadata": {},
   "outputs": [],
   "source": [
    "df_dict = pd.DataFrame({'Name': ['Deep','Pari','Anchal'], 'Marks': [76,67,78]})"
   ]
  },
  {
   "cell_type": "code",
   "execution_count": 5,
   "id": "858a0f07-52f5-47e8-bb4c-e2af7ad83420",
   "metadata": {},
   "outputs": [
    {
     "data": {
      "text/html": [
       "<div>\n",
       "<style scoped>\n",
       "    .dataframe tbody tr th:only-of-type {\n",
       "        vertical-align: middle;\n",
       "    }\n",
       "\n",
       "    .dataframe tbody tr th {\n",
       "        vertical-align: top;\n",
       "    }\n",
       "\n",
       "    .dataframe thead th {\n",
       "        text-align: right;\n",
       "    }\n",
       "</style>\n",
       "<table border=\"1\" class=\"dataframe\">\n",
       "  <thead>\n",
       "    <tr style=\"text-align: right;\">\n",
       "      <th></th>\n",
       "      <th>Name</th>\n",
       "      <th>Marks</th>\n",
       "    </tr>\n",
       "  </thead>\n",
       "  <tbody>\n",
       "    <tr>\n",
       "      <th>0</th>\n",
       "      <td>Deep</td>\n",
       "      <td>76</td>\n",
       "    </tr>\n",
       "    <tr>\n",
       "      <th>1</th>\n",
       "      <td>Pari</td>\n",
       "      <td>67</td>\n",
       "    </tr>\n",
       "    <tr>\n",
       "      <th>2</th>\n",
       "      <td>Anchal</td>\n",
       "      <td>78</td>\n",
       "    </tr>\n",
       "  </tbody>\n",
       "</table>\n",
       "</div>"
      ],
      "text/plain": [
       "     Name  Marks\n",
       "0    Deep     76\n",
       "1    Pari     67\n",
       "2  Anchal     78"
      ]
     },
     "execution_count": 5,
     "metadata": {},
     "output_type": "execute_result"
    }
   ],
   "source": [
    "df_dict"
   ]
  },
  {
   "cell_type": "markdown",
   "id": "e9c85f30-e868-4540-8914-fdc294b729d5",
   "metadata": {},
   "source": [
    "# load csv data using pandas' read_csv method"
   ]
  },
  {
   "cell_type": "code",
   "execution_count": 7,
   "id": "4eafbac7-95a3-4aa1-a617-69ccd9b113de",
   "metadata": {},
   "outputs": [],
   "source": [
    "df = pd.read_csv('StockData.csv')"
   ]
  },
  {
   "cell_type": "markdown",
   "id": "182edd5a-42cb-4f9e-bd43-363ac9481aa7",
   "metadata": {},
   "source": [
    "# head() method returns the first 5 rows of the dataframe by default,otherwise mention the number of rows "
   ]
  },
  {
   "cell_type": "code",
   "execution_count": 8,
   "id": "df30d98c-d459-4c8d-9d7b-62843174791c",
   "metadata": {},
   "outputs": [
    {
     "data": {
      "text/html": [
       "<div>\n",
       "<style scoped>\n",
       "    .dataframe tbody tr th:only-of-type {\n",
       "        vertical-align: middle;\n",
       "    }\n",
       "\n",
       "    .dataframe tbody tr th {\n",
       "        vertical-align: top;\n",
       "    }\n",
       "\n",
       "    .dataframe thead th {\n",
       "        text-align: right;\n",
       "    }\n",
       "</style>\n",
       "<table border=\"1\" class=\"dataframe\">\n",
       "  <thead>\n",
       "    <tr style=\"text-align: right;\">\n",
       "      <th></th>\n",
       "      <th>stock</th>\n",
       "      <th>date</th>\n",
       "      <th>price</th>\n",
       "    </tr>\n",
       "  </thead>\n",
       "  <tbody>\n",
       "    <tr>\n",
       "      <th>0</th>\n",
       "      <td>AAPL</td>\n",
       "      <td>08-02-2013</td>\n",
       "      <td>67.8542</td>\n",
       "    </tr>\n",
       "    <tr>\n",
       "      <th>1</th>\n",
       "      <td>AAPL</td>\n",
       "      <td>11-02-2013</td>\n",
       "      <td>68.5614</td>\n",
       "    </tr>\n",
       "    <tr>\n",
       "      <th>2</th>\n",
       "      <td>AAPL</td>\n",
       "      <td>12-02-2013</td>\n",
       "      <td>66.8428</td>\n",
       "    </tr>\n",
       "    <tr>\n",
       "      <th>3</th>\n",
       "      <td>AAPL</td>\n",
       "      <td>13-02-2013</td>\n",
       "      <td>66.7156</td>\n",
       "    </tr>\n",
       "    <tr>\n",
       "      <th>4</th>\n",
       "      <td>AAPL</td>\n",
       "      <td>14-02-2013</td>\n",
       "      <td>66.6556</td>\n",
       "    </tr>\n",
       "  </tbody>\n",
       "</table>\n",
       "</div>"
      ],
      "text/plain": [
       "  stock        date    price\n",
       "0  AAPL  08-02-2013  67.8542\n",
       "1  AAPL  11-02-2013  68.5614\n",
       "2  AAPL  12-02-2013  66.8428\n",
       "3  AAPL  13-02-2013  66.7156\n",
       "4  AAPL  14-02-2013  66.6556"
      ]
     },
     "execution_count": 8,
     "metadata": {},
     "output_type": "execute_result"
    }
   ],
   "source": [
    "df.head()"
   ]
  },
  {
   "cell_type": "code",
   "execution_count": 10,
   "id": "49d6f08c-8402-47b6-94c4-b3b27747a3b6",
   "metadata": {},
   "outputs": [
    {
     "data": {
      "text/html": [
       "<div>\n",
       "<style scoped>\n",
       "    .dataframe tbody tr th:only-of-type {\n",
       "        vertical-align: middle;\n",
       "    }\n",
       "\n",
       "    .dataframe tbody tr th {\n",
       "        vertical-align: top;\n",
       "    }\n",
       "\n",
       "    .dataframe thead th {\n",
       "        text-align: right;\n",
       "    }\n",
       "</style>\n",
       "<table border=\"1\" class=\"dataframe\">\n",
       "  <thead>\n",
       "    <tr style=\"text-align: right;\">\n",
       "      <th></th>\n",
       "      <th>stock</th>\n",
       "      <th>date</th>\n",
       "      <th>price</th>\n",
       "    </tr>\n",
       "  </thead>\n",
       "  <tbody>\n",
       "    <tr>\n",
       "      <th>0</th>\n",
       "      <td>AAPL</td>\n",
       "      <td>08-02-2013</td>\n",
       "      <td>67.8542</td>\n",
       "    </tr>\n",
       "    <tr>\n",
       "      <th>1</th>\n",
       "      <td>AAPL</td>\n",
       "      <td>11-02-2013</td>\n",
       "      <td>68.5614</td>\n",
       "    </tr>\n",
       "    <tr>\n",
       "      <th>2</th>\n",
       "      <td>AAPL</td>\n",
       "      <td>12-02-2013</td>\n",
       "      <td>66.8428</td>\n",
       "    </tr>\n",
       "    <tr>\n",
       "      <th>3</th>\n",
       "      <td>AAPL</td>\n",
       "      <td>13-02-2013</td>\n",
       "      <td>66.7156</td>\n",
       "    </tr>\n",
       "    <tr>\n",
       "      <th>4</th>\n",
       "      <td>AAPL</td>\n",
       "      <td>14-02-2013</td>\n",
       "      <td>66.6556</td>\n",
       "    </tr>\n",
       "    <tr>\n",
       "      <th>5</th>\n",
       "      <td>AAPL</td>\n",
       "      <td>15-02-2013</td>\n",
       "      <td>65.7371</td>\n",
       "    </tr>\n",
       "    <tr>\n",
       "      <th>6</th>\n",
       "      <td>AAPL</td>\n",
       "      <td>19-02-2013</td>\n",
       "      <td>65.7128</td>\n",
       "    </tr>\n",
       "  </tbody>\n",
       "</table>\n",
       "</div>"
      ],
      "text/plain": [
       "  stock        date    price\n",
       "0  AAPL  08-02-2013  67.8542\n",
       "1  AAPL  11-02-2013  68.5614\n",
       "2  AAPL  12-02-2013  66.8428\n",
       "3  AAPL  13-02-2013  66.7156\n",
       "4  AAPL  14-02-2013  66.6556\n",
       "5  AAPL  15-02-2013  65.7371\n",
       "6  AAPL  19-02-2013  65.7128"
      ]
     },
     "execution_count": 10,
     "metadata": {},
     "output_type": "execute_result"
    }
   ],
   "source": [
    "df.head(7) # mention he number of rows in head() method"
   ]
  },
  {
   "cell_type": "markdown",
   "id": "7ae8c70c-70b2-4a86-b455-fe1b96211df1",
   "metadata": {},
   "source": [
    "# tail() method is used to get last rows of the dataframe, by default is 5 otherwise mention"
   ]
  },
  {
   "cell_type": "code",
   "execution_count": 11,
   "id": "51249926-3dad-4016-ac5c-b05af56df3f8",
   "metadata": {},
   "outputs": [
    {
     "data": {
      "text/html": [
       "<div>\n",
       "<style scoped>\n",
       "    .dataframe tbody tr th:only-of-type {\n",
       "        vertical-align: middle;\n",
       "    }\n",
       "\n",
       "    .dataframe tbody tr th {\n",
       "        vertical-align: top;\n",
       "    }\n",
       "\n",
       "    .dataframe thead th {\n",
       "        text-align: right;\n",
       "    }\n",
       "</style>\n",
       "<table border=\"1\" class=\"dataframe\">\n",
       "  <thead>\n",
       "    <tr style=\"text-align: right;\">\n",
       "      <th></th>\n",
       "      <th>stock</th>\n",
       "      <th>date</th>\n",
       "      <th>price</th>\n",
       "    </tr>\n",
       "  </thead>\n",
       "  <tbody>\n",
       "    <tr>\n",
       "      <th>5031</th>\n",
       "      <td>ZTS</td>\n",
       "      <td>01-02-2018</td>\n",
       "      <td>77.82</td>\n",
       "    </tr>\n",
       "    <tr>\n",
       "      <th>5032</th>\n",
       "      <td>ZTS</td>\n",
       "      <td>02-02-2018</td>\n",
       "      <td>76.78</td>\n",
       "    </tr>\n",
       "    <tr>\n",
       "      <th>5033</th>\n",
       "      <td>ZTS</td>\n",
       "      <td>05-02-2018</td>\n",
       "      <td>73.83</td>\n",
       "    </tr>\n",
       "    <tr>\n",
       "      <th>5034</th>\n",
       "      <td>ZTS</td>\n",
       "      <td>06-02-2018</td>\n",
       "      <td>73.27</td>\n",
       "    </tr>\n",
       "    <tr>\n",
       "      <th>5035</th>\n",
       "      <td>ZTS</td>\n",
       "      <td>07-02-2018</td>\n",
       "      <td>73.86</td>\n",
       "    </tr>\n",
       "  </tbody>\n",
       "</table>\n",
       "</div>"
      ],
      "text/plain": [
       "     stock        date  price\n",
       "5031   ZTS  01-02-2018  77.82\n",
       "5032   ZTS  02-02-2018  76.78\n",
       "5033   ZTS  05-02-2018  73.83\n",
       "5034   ZTS  06-02-2018  73.27\n",
       "5035   ZTS  07-02-2018  73.86"
      ]
     },
     "execution_count": 11,
     "metadata": {},
     "output_type": "execute_result"
    }
   ],
   "source": [
    "df.tail()"
   ]
  },
  {
   "cell_type": "markdown",
   "id": "64db7dbe-eda7-4538-95ab-3da0a29621e1",
   "metadata": {},
   "source": [
    "# shape, shape attribute is used to get the shape of dataframe, rows and columns"
   ]
  },
  {
   "cell_type": "code",
   "execution_count": 12,
   "id": "b619e777-61cc-4bc6-bd39-5a086d00ff46",
   "metadata": {},
   "outputs": [
    {
     "data": {
      "text/plain": [
       "(5036, 3)"
      ]
     },
     "execution_count": 12,
     "metadata": {},
     "output_type": "execute_result"
    }
   ],
   "source": [
    "df.shape"
   ]
  },
  {
   "cell_type": "markdown",
   "id": "1914f727-002d-4035-a937-4f3938a55880",
   "metadata": {},
   "source": [
    "# Describe method gives the numeric information like, count,std,min,max,mean,25%,50%,75%"
   ]
  },
  {
   "cell_type": "code",
   "execution_count": 14,
   "id": "6d5ec3bf-6b13-4b54-9c57-4baa3f59465c",
   "metadata": {},
   "outputs": [
    {
     "data": {
      "text/html": [
       "<div>\n",
       "<style scoped>\n",
       "    .dataframe tbody tr th:only-of-type {\n",
       "        vertical-align: middle;\n",
       "    }\n",
       "\n",
       "    .dataframe tbody tr th {\n",
       "        vertical-align: top;\n",
       "    }\n",
       "\n",
       "    .dataframe thead th {\n",
       "        text-align: right;\n",
       "    }\n",
       "</style>\n",
       "<table border=\"1\" class=\"dataframe\">\n",
       "  <thead>\n",
       "    <tr style=\"text-align: right;\">\n",
       "      <th></th>\n",
       "      <th>price</th>\n",
       "    </tr>\n",
       "  </thead>\n",
       "  <tbody>\n",
       "    <tr>\n",
       "      <th>count</th>\n",
       "      <td>5036.000000</td>\n",
       "    </tr>\n",
       "    <tr>\n",
       "      <th>mean</th>\n",
       "      <td>73.057030</td>\n",
       "    </tr>\n",
       "    <tr>\n",
       "      <th>std</th>\n",
       "      <td>29.011126</td>\n",
       "    </tr>\n",
       "    <tr>\n",
       "      <th>min</th>\n",
       "      <td>28.400000</td>\n",
       "    </tr>\n",
       "    <tr>\n",
       "      <th>25%</th>\n",
       "      <td>54.067500</td>\n",
       "    </tr>\n",
       "    <tr>\n",
       "      <th>50%</th>\n",
       "      <td>69.085000</td>\n",
       "    </tr>\n",
       "    <tr>\n",
       "      <th>75%</th>\n",
       "      <td>79.250000</td>\n",
       "    </tr>\n",
       "    <tr>\n",
       "      <th>max</th>\n",
       "      <td>179.260000</td>\n",
       "    </tr>\n",
       "  </tbody>\n",
       "</table>\n",
       "</div>"
      ],
      "text/plain": [
       "             price\n",
       "count  5036.000000\n",
       "mean     73.057030\n",
       "std      29.011126\n",
       "min      28.400000\n",
       "25%      54.067500\n",
       "50%      69.085000\n",
       "75%      79.250000\n",
       "max     179.260000"
      ]
     },
     "execution_count": 14,
     "metadata": {},
     "output_type": "execute_result"
    }
   ],
   "source": [
    "df.describe()"
   ]
  },
  {
   "cell_type": "markdown",
   "id": "4c009050-3df2-421f-b42d-bd1e27df1ad7",
   "metadata": {},
   "source": [
    "# Calculate mean, median, min, max "
   ]
  },
  {
   "cell_type": "code",
   "execution_count": 37,
   "id": "7bd17dc6-5398-47ad-b4e8-1610ee2f6667",
   "metadata": {},
   "outputs": [
    {
     "data": {
      "text/plain": [
       "stock          AAPL\n",
       "date     01-02-2016\n",
       "price          28.4\n",
       "dtype: object"
      ]
     },
     "execution_count": 37,
     "metadata": {},
     "output_type": "execute_result"
    }
   ],
   "source": [
    "df.min()"
   ]
  },
  {
   "cell_type": "code",
   "execution_count": 38,
   "id": "369efcf6-4aee-4b5b-ab9a-25f7c812de26",
   "metadata": {},
   "outputs": [
    {
     "data": {
      "text/plain": [
       "stock           ZTS\n",
       "date     31-12-2015\n",
       "price        179.26\n",
       "dtype: object"
      ]
     },
     "execution_count": 38,
     "metadata": {},
     "output_type": "execute_result"
    }
   ],
   "source": [
    "df.max()"
   ]
  },
  {
   "cell_type": "code",
   "execution_count": 46,
   "id": "dd6fb5bf-8e21-44af-9341-96a7ebe72215",
   "metadata": {},
   "outputs": [
    {
     "data": {
      "text/plain": [
       "73.05702966640192"
      ]
     },
     "execution_count": 46,
     "metadata": {},
     "output_type": "execute_result"
    }
   ],
   "source": [
    "df['price'].mean() #takes numeric data"
   ]
  },
  {
   "cell_type": "code",
   "execution_count": 44,
   "id": "449629de-a8a1-478c-9b11-bd8dd7594387",
   "metadata": {},
   "outputs": [
    {
     "data": {
      "text/plain": [
       "69.08500000000001"
      ]
     },
     "execution_count": 44,
     "metadata": {},
     "output_type": "execute_result"
    }
   ],
   "source": [
    "df['price'].median()"
   ]
  },
  {
   "cell_type": "markdown",
   "id": "2aaab77b-2403-4a44-bf06-b07a0fdccf32",
   "metadata": {},
   "source": [
    "# iloc[], is used to get rows and columns, which are specified using index number of rows and columns, i is for index"
   ]
  },
  {
   "cell_type": "code",
   "execution_count": 16,
   "id": "24b4bcf7-a681-478e-8191-836021550a4a",
   "metadata": {},
   "outputs": [
    {
     "data": {
      "text/html": [
       "<div>\n",
       "<style scoped>\n",
       "    .dataframe tbody tr th:only-of-type {\n",
       "        vertical-align: middle;\n",
       "    }\n",
       "\n",
       "    .dataframe tbody tr th {\n",
       "        vertical-align: top;\n",
       "    }\n",
       "\n",
       "    .dataframe thead th {\n",
       "        text-align: right;\n",
       "    }\n",
       "</style>\n",
       "<table border=\"1\" class=\"dataframe\">\n",
       "  <thead>\n",
       "    <tr style=\"text-align: right;\">\n",
       "      <th></th>\n",
       "      <th>stock</th>\n",
       "      <th>date</th>\n",
       "      <th>price</th>\n",
       "    </tr>\n",
       "  </thead>\n",
       "  <tbody>\n",
       "    <tr>\n",
       "      <th>0</th>\n",
       "      <td>AAPL</td>\n",
       "      <td>08-02-2013</td>\n",
       "      <td>67.8542</td>\n",
       "    </tr>\n",
       "    <tr>\n",
       "      <th>1</th>\n",
       "      <td>AAPL</td>\n",
       "      <td>11-02-2013</td>\n",
       "      <td>68.5614</td>\n",
       "    </tr>\n",
       "    <tr>\n",
       "      <th>2</th>\n",
       "      <td>AAPL</td>\n",
       "      <td>12-02-2013</td>\n",
       "      <td>66.8428</td>\n",
       "    </tr>\n",
       "    <tr>\n",
       "      <th>3</th>\n",
       "      <td>AAPL</td>\n",
       "      <td>13-02-2013</td>\n",
       "      <td>66.7156</td>\n",
       "    </tr>\n",
       "    <tr>\n",
       "      <th>4</th>\n",
       "      <td>AAPL</td>\n",
       "      <td>14-02-2013</td>\n",
       "      <td>66.6556</td>\n",
       "    </tr>\n",
       "  </tbody>\n",
       "</table>\n",
       "</div>"
      ],
      "text/plain": [
       "  stock        date    price\n",
       "0  AAPL  08-02-2013  67.8542\n",
       "1  AAPL  11-02-2013  68.5614\n",
       "2  AAPL  12-02-2013  66.8428\n",
       "3  AAPL  13-02-2013  66.7156\n",
       "4  AAPL  14-02-2013  66.6556"
      ]
     },
     "execution_count": 16,
     "metadata": {},
     "output_type": "execute_result"
    }
   ],
   "source": [
    "df.head()"
   ]
  },
  {
   "cell_type": "code",
   "execution_count": 17,
   "id": "6902d637-ee91-4e34-b700-1923d1918314",
   "metadata": {},
   "outputs": [
    {
     "data": {
      "text/html": [
       "<div>\n",
       "<style scoped>\n",
       "    .dataframe tbody tr th:only-of-type {\n",
       "        vertical-align: middle;\n",
       "    }\n",
       "\n",
       "    .dataframe tbody tr th {\n",
       "        vertical-align: top;\n",
       "    }\n",
       "\n",
       "    .dataframe thead th {\n",
       "        text-align: right;\n",
       "    }\n",
       "</style>\n",
       "<table border=\"1\" class=\"dataframe\">\n",
       "  <thead>\n",
       "    <tr style=\"text-align: right;\">\n",
       "      <th></th>\n",
       "      <th>date</th>\n",
       "    </tr>\n",
       "  </thead>\n",
       "  <tbody>\n",
       "    <tr>\n",
       "      <th>0</th>\n",
       "      <td>08-02-2013</td>\n",
       "    </tr>\n",
       "    <tr>\n",
       "      <th>1</th>\n",
       "      <td>11-02-2013</td>\n",
       "    </tr>\n",
       "    <tr>\n",
       "      <th>2</th>\n",
       "      <td>12-02-2013</td>\n",
       "    </tr>\n",
       "    <tr>\n",
       "      <th>3</th>\n",
       "      <td>13-02-2013</td>\n",
       "    </tr>\n",
       "    <tr>\n",
       "      <th>4</th>\n",
       "      <td>14-02-2013</td>\n",
       "    </tr>\n",
       "  </tbody>\n",
       "</table>\n",
       "</div>"
      ],
      "text/plain": [
       "         date\n",
       "0  08-02-2013\n",
       "1  11-02-2013\n",
       "2  12-02-2013\n",
       "3  13-02-2013\n",
       "4  14-02-2013"
      ]
     },
     "execution_count": 17,
     "metadata": {},
     "output_type": "execute_result"
    }
   ],
   "source": [
    "df.iloc[0:5,1:2] # gives first 4 rows, index 5 is excluded and second column as 2 is not included"
   ]
  },
  {
   "cell_type": "markdown",
   "id": "b764964a-0d0d-499c-a76d-018b13fa38bc",
   "metadata": {},
   "source": [
    "# loc[]: gives the rows and columns, specified by name of rows and columns"
   ]
  },
  {
   "cell_type": "code",
   "execution_count": 18,
   "id": "8e4b137e-5d77-4323-88aa-54367d72311b",
   "metadata": {},
   "outputs": [
    {
     "data": {
      "text/html": [
       "<div>\n",
       "<style scoped>\n",
       "    .dataframe tbody tr th:only-of-type {\n",
       "        vertical-align: middle;\n",
       "    }\n",
       "\n",
       "    .dataframe tbody tr th {\n",
       "        vertical-align: top;\n",
       "    }\n",
       "\n",
       "    .dataframe thead th {\n",
       "        text-align: right;\n",
       "    }\n",
       "</style>\n",
       "<table border=\"1\" class=\"dataframe\">\n",
       "  <thead>\n",
       "    <tr style=\"text-align: right;\">\n",
       "      <th></th>\n",
       "      <th>stock</th>\n",
       "      <th>date</th>\n",
       "      <th>price</th>\n",
       "    </tr>\n",
       "  </thead>\n",
       "  <tbody>\n",
       "    <tr>\n",
       "      <th>0</th>\n",
       "      <td>AAPL</td>\n",
       "      <td>08-02-2013</td>\n",
       "      <td>67.8542</td>\n",
       "    </tr>\n",
       "    <tr>\n",
       "      <th>1</th>\n",
       "      <td>AAPL</td>\n",
       "      <td>11-02-2013</td>\n",
       "      <td>68.5614</td>\n",
       "    </tr>\n",
       "    <tr>\n",
       "      <th>2</th>\n",
       "      <td>AAPL</td>\n",
       "      <td>12-02-2013</td>\n",
       "      <td>66.8428</td>\n",
       "    </tr>\n",
       "    <tr>\n",
       "      <th>3</th>\n",
       "      <td>AAPL</td>\n",
       "      <td>13-02-2013</td>\n",
       "      <td>66.7156</td>\n",
       "    </tr>\n",
       "    <tr>\n",
       "      <th>4</th>\n",
       "      <td>AAPL</td>\n",
       "      <td>14-02-2013</td>\n",
       "      <td>66.6556</td>\n",
       "    </tr>\n",
       "  </tbody>\n",
       "</table>\n",
       "</div>"
      ],
      "text/plain": [
       "  stock        date    price\n",
       "0  AAPL  08-02-2013  67.8542\n",
       "1  AAPL  11-02-2013  68.5614\n",
       "2  AAPL  12-02-2013  66.8428\n",
       "3  AAPL  13-02-2013  66.7156\n",
       "4  AAPL  14-02-2013  66.6556"
      ]
     },
     "execution_count": 18,
     "metadata": {},
     "output_type": "execute_result"
    }
   ],
   "source": [
    "df.head()"
   ]
  },
  {
   "cell_type": "code",
   "execution_count": 22,
   "id": "48500a68-b26f-441d-afca-0f80edc02081",
   "metadata": {},
   "outputs": [
    {
     "data": {
      "text/html": [
       "<div>\n",
       "<style scoped>\n",
       "    .dataframe tbody tr th:only-of-type {\n",
       "        vertical-align: middle;\n",
       "    }\n",
       "\n",
       "    .dataframe tbody tr th {\n",
       "        vertical-align: top;\n",
       "    }\n",
       "\n",
       "    .dataframe thead th {\n",
       "        text-align: right;\n",
       "    }\n",
       "</style>\n",
       "<table border=\"1\" class=\"dataframe\">\n",
       "  <thead>\n",
       "    <tr style=\"text-align: right;\">\n",
       "      <th></th>\n",
       "      <th>stock</th>\n",
       "      <th>price</th>\n",
       "    </tr>\n",
       "  </thead>\n",
       "  <tbody>\n",
       "    <tr>\n",
       "      <th>0</th>\n",
       "      <td>AAPL</td>\n",
       "      <td>67.8542</td>\n",
       "    </tr>\n",
       "    <tr>\n",
       "      <th>1</th>\n",
       "      <td>AAPL</td>\n",
       "      <td>68.5614</td>\n",
       "    </tr>\n",
       "    <tr>\n",
       "      <th>2</th>\n",
       "      <td>AAPL</td>\n",
       "      <td>66.8428</td>\n",
       "    </tr>\n",
       "    <tr>\n",
       "      <th>3</th>\n",
       "      <td>AAPL</td>\n",
       "      <td>66.7156</td>\n",
       "    </tr>\n",
       "    <tr>\n",
       "      <th>4</th>\n",
       "      <td>AAPL</td>\n",
       "      <td>66.6556</td>\n",
       "    </tr>\n",
       "  </tbody>\n",
       "</table>\n",
       "</div>"
      ],
      "text/plain": [
       "  stock    price\n",
       "0  AAPL  67.8542\n",
       "1  AAPL  68.5614\n",
       "2  AAPL  66.8428\n",
       "3  AAPL  66.7156\n",
       "4  AAPL  66.6556"
      ]
     },
     "execution_count": 22,
     "metadata": {},
     "output_type": "execute_result"
    }
   ],
   "source": [
    "df.loc[0:4,['stock', 'price']] # last index is always included in the loc "
   ]
  },
  {
   "cell_type": "markdown",
   "id": "bbb80e6e-e9f2-4c1a-bfc4-f9c1c5c9aa22",
   "metadata": {},
   "source": [
    "# Dropping columns, axis = 1 means drop function is for columns"
   ]
  },
  {
   "cell_type": "code",
   "execution_count": 20,
   "id": "dfd53f85-2b52-4169-9134-2850dc8d19c6",
   "metadata": {},
   "outputs": [
    {
     "data": {
      "text/html": [
       "<div>\n",
       "<style scoped>\n",
       "    .dataframe tbody tr th:only-of-type {\n",
       "        vertical-align: middle;\n",
       "    }\n",
       "\n",
       "    .dataframe tbody tr th {\n",
       "        vertical-align: top;\n",
       "    }\n",
       "\n",
       "    .dataframe thead th {\n",
       "        text-align: right;\n",
       "    }\n",
       "</style>\n",
       "<table border=\"1\" class=\"dataframe\">\n",
       "  <thead>\n",
       "    <tr style=\"text-align: right;\">\n",
       "      <th></th>\n",
       "      <th>stock</th>\n",
       "      <th>date</th>\n",
       "    </tr>\n",
       "  </thead>\n",
       "  <tbody>\n",
       "    <tr>\n",
       "      <th>0</th>\n",
       "      <td>AAPL</td>\n",
       "      <td>08-02-2013</td>\n",
       "    </tr>\n",
       "    <tr>\n",
       "      <th>1</th>\n",
       "      <td>AAPL</td>\n",
       "      <td>11-02-2013</td>\n",
       "    </tr>\n",
       "    <tr>\n",
       "      <th>2</th>\n",
       "      <td>AAPL</td>\n",
       "      <td>12-02-2013</td>\n",
       "    </tr>\n",
       "    <tr>\n",
       "      <th>3</th>\n",
       "      <td>AAPL</td>\n",
       "      <td>13-02-2013</td>\n",
       "    </tr>\n",
       "    <tr>\n",
       "      <th>4</th>\n",
       "      <td>AAPL</td>\n",
       "      <td>14-02-2013</td>\n",
       "    </tr>\n",
       "    <tr>\n",
       "      <th>...</th>\n",
       "      <td>...</td>\n",
       "      <td>...</td>\n",
       "    </tr>\n",
       "    <tr>\n",
       "      <th>5031</th>\n",
       "      <td>ZTS</td>\n",
       "      <td>01-02-2018</td>\n",
       "    </tr>\n",
       "    <tr>\n",
       "      <th>5032</th>\n",
       "      <td>ZTS</td>\n",
       "      <td>02-02-2018</td>\n",
       "    </tr>\n",
       "    <tr>\n",
       "      <th>5033</th>\n",
       "      <td>ZTS</td>\n",
       "      <td>05-02-2018</td>\n",
       "    </tr>\n",
       "    <tr>\n",
       "      <th>5034</th>\n",
       "      <td>ZTS</td>\n",
       "      <td>06-02-2018</td>\n",
       "    </tr>\n",
       "    <tr>\n",
       "      <th>5035</th>\n",
       "      <td>ZTS</td>\n",
       "      <td>07-02-2018</td>\n",
       "    </tr>\n",
       "  </tbody>\n",
       "</table>\n",
       "<p>5036 rows × 2 columns</p>\n",
       "</div>"
      ],
      "text/plain": [
       "     stock        date\n",
       "0     AAPL  08-02-2013\n",
       "1     AAPL  11-02-2013\n",
       "2     AAPL  12-02-2013\n",
       "3     AAPL  13-02-2013\n",
       "4     AAPL  14-02-2013\n",
       "...    ...         ...\n",
       "5031   ZTS  01-02-2018\n",
       "5032   ZTS  02-02-2018\n",
       "5033   ZTS  05-02-2018\n",
       "5034   ZTS  06-02-2018\n",
       "5035   ZTS  07-02-2018\n",
       "\n",
       "[5036 rows x 2 columns]"
      ]
     },
     "execution_count": 20,
     "metadata": {},
     "output_type": "execute_result"
    }
   ],
   "source": [
    "df.drop('price', axis=1)"
   ]
  },
  {
   "cell_type": "markdown",
   "id": "a14576a2-4308-453b-bdff-b37e4b24ab56",
   "metadata": {},
   "source": [
    "# Dropping columns, axis = 0, means drop function is for rows"
   ]
  },
  {
   "cell_type": "code",
   "execution_count": 21,
   "id": "43bb254a-2390-4b5b-9eb3-4ea09cae1b0f",
   "metadata": {},
   "outputs": [
    {
     "data": {
      "text/html": [
       "<div>\n",
       "<style scoped>\n",
       "    .dataframe tbody tr th:only-of-type {\n",
       "        vertical-align: middle;\n",
       "    }\n",
       "\n",
       "    .dataframe tbody tr th {\n",
       "        vertical-align: top;\n",
       "    }\n",
       "\n",
       "    .dataframe thead th {\n",
       "        text-align: right;\n",
       "    }\n",
       "</style>\n",
       "<table border=\"1\" class=\"dataframe\">\n",
       "  <thead>\n",
       "    <tr style=\"text-align: right;\">\n",
       "      <th></th>\n",
       "      <th>stock</th>\n",
       "      <th>date</th>\n",
       "      <th>price</th>\n",
       "    </tr>\n",
       "  </thead>\n",
       "  <tbody>\n",
       "    <tr>\n",
       "      <th>0</th>\n",
       "      <td>AAPL</td>\n",
       "      <td>08-02-2013</td>\n",
       "      <td>67.8542</td>\n",
       "    </tr>\n",
       "    <tr>\n",
       "      <th>4</th>\n",
       "      <td>AAPL</td>\n",
       "      <td>14-02-2013</td>\n",
       "      <td>66.6556</td>\n",
       "    </tr>\n",
       "    <tr>\n",
       "      <th>5</th>\n",
       "      <td>AAPL</td>\n",
       "      <td>15-02-2013</td>\n",
       "      <td>65.7371</td>\n",
       "    </tr>\n",
       "    <tr>\n",
       "      <th>6</th>\n",
       "      <td>AAPL</td>\n",
       "      <td>19-02-2013</td>\n",
       "      <td>65.7128</td>\n",
       "    </tr>\n",
       "    <tr>\n",
       "      <th>7</th>\n",
       "      <td>AAPL</td>\n",
       "      <td>20-02-2013</td>\n",
       "      <td>64.1214</td>\n",
       "    </tr>\n",
       "    <tr>\n",
       "      <th>...</th>\n",
       "      <td>...</td>\n",
       "      <td>...</td>\n",
       "      <td>...</td>\n",
       "    </tr>\n",
       "    <tr>\n",
       "      <th>5031</th>\n",
       "      <td>ZTS</td>\n",
       "      <td>01-02-2018</td>\n",
       "      <td>77.8200</td>\n",
       "    </tr>\n",
       "    <tr>\n",
       "      <th>5032</th>\n",
       "      <td>ZTS</td>\n",
       "      <td>02-02-2018</td>\n",
       "      <td>76.7800</td>\n",
       "    </tr>\n",
       "    <tr>\n",
       "      <th>5033</th>\n",
       "      <td>ZTS</td>\n",
       "      <td>05-02-2018</td>\n",
       "      <td>73.8300</td>\n",
       "    </tr>\n",
       "    <tr>\n",
       "      <th>5034</th>\n",
       "      <td>ZTS</td>\n",
       "      <td>06-02-2018</td>\n",
       "      <td>73.2700</td>\n",
       "    </tr>\n",
       "    <tr>\n",
       "      <th>5035</th>\n",
       "      <td>ZTS</td>\n",
       "      <td>07-02-2018</td>\n",
       "      <td>73.8600</td>\n",
       "    </tr>\n",
       "  </tbody>\n",
       "</table>\n",
       "<p>5033 rows × 3 columns</p>\n",
       "</div>"
      ],
      "text/plain": [
       "     stock        date    price\n",
       "0     AAPL  08-02-2013  67.8542\n",
       "4     AAPL  14-02-2013  66.6556\n",
       "5     AAPL  15-02-2013  65.7371\n",
       "6     AAPL  19-02-2013  65.7128\n",
       "7     AAPL  20-02-2013  64.1214\n",
       "...    ...         ...      ...\n",
       "5031   ZTS  01-02-2018  77.8200\n",
       "5032   ZTS  02-02-2018  76.7800\n",
       "5033   ZTS  05-02-2018  73.8300\n",
       "5034   ZTS  06-02-2018  73.2700\n",
       "5035   ZTS  07-02-2018  73.8600\n",
       "\n",
       "[5033 rows x 3 columns]"
      ]
     },
     "execution_count": 21,
     "metadata": {},
     "output_type": "execute_result"
    }
   ],
   "source": [
    "df.drop([1,2,3], axis=0)"
   ]
  },
  {
   "cell_type": "code",
   "execution_count": 23,
   "id": "08ed6ed9-f69a-4f65-9886-c5accd5ffdb2",
   "metadata": {},
   "outputs": [
    {
     "data": {
      "text/html": [
       "<div>\n",
       "<style scoped>\n",
       "    .dataframe tbody tr th:only-of-type {\n",
       "        vertical-align: middle;\n",
       "    }\n",
       "\n",
       "    .dataframe tbody tr th {\n",
       "        vertical-align: top;\n",
       "    }\n",
       "\n",
       "    .dataframe thead th {\n",
       "        text-align: right;\n",
       "    }\n",
       "</style>\n",
       "<table border=\"1\" class=\"dataframe\">\n",
       "  <thead>\n",
       "    <tr style=\"text-align: right;\">\n",
       "      <th></th>\n",
       "      <th>stock</th>\n",
       "      <th>date</th>\n",
       "      <th>price</th>\n",
       "    </tr>\n",
       "  </thead>\n",
       "  <tbody>\n",
       "    <tr>\n",
       "      <th>0</th>\n",
       "      <td>AAPL</td>\n",
       "      <td>08-02-2013</td>\n",
       "      <td>67.8542</td>\n",
       "    </tr>\n",
       "    <tr>\n",
       "      <th>1</th>\n",
       "      <td>AAPL</td>\n",
       "      <td>11-02-2013</td>\n",
       "      <td>68.5614</td>\n",
       "    </tr>\n",
       "    <tr>\n",
       "      <th>2</th>\n",
       "      <td>AAPL</td>\n",
       "      <td>12-02-2013</td>\n",
       "      <td>66.8428</td>\n",
       "    </tr>\n",
       "    <tr>\n",
       "      <th>3</th>\n",
       "      <td>AAPL</td>\n",
       "      <td>13-02-2013</td>\n",
       "      <td>66.7156</td>\n",
       "    </tr>\n",
       "    <tr>\n",
       "      <th>4</th>\n",
       "      <td>AAPL</td>\n",
       "      <td>14-02-2013</td>\n",
       "      <td>66.6556</td>\n",
       "    </tr>\n",
       "  </tbody>\n",
       "</table>\n",
       "</div>"
      ],
      "text/plain": [
       "  stock        date    price\n",
       "0  AAPL  08-02-2013  67.8542\n",
       "1  AAPL  11-02-2013  68.5614\n",
       "2  AAPL  12-02-2013  66.8428\n",
       "3  AAPL  13-02-2013  66.7156\n",
       "4  AAPL  14-02-2013  66.6556"
      ]
     },
     "execution_count": 23,
     "metadata": {},
     "output_type": "execute_result"
    }
   ],
   "source": [
    "df.head()"
   ]
  },
  {
   "cell_type": "markdown",
   "id": "1562f0d4-fc62-40d6-881b-d8ee4d7c384d",
   "metadata": {},
   "source": [
    "# apply() method is used for applying user defined function for each element of the column"
   ]
  },
  {
   "cell_type": "code",
   "execution_count": 24,
   "id": "dc4a8e5c-45a8-4b5c-ba40-1b1207966574",
   "metadata": {},
   "outputs": [],
   "source": [
    "def half(x):\n",
    "    return x*0.5\n"
   ]
  },
  {
   "cell_type": "code",
   "execution_count": 26,
   "id": "4ad35fea-5963-41fd-b152-5c8438247ca8",
   "metadata": {},
   "outputs": [],
   "source": [
    "x = df['price'].apply(half)"
   ]
  },
  {
   "cell_type": "code",
   "execution_count": 27,
   "id": "c0c54c44-db6c-4e44-b2ab-3174aeae3617",
   "metadata": {},
   "outputs": [
    {
     "data": {
      "text/plain": [
       "0       33.9271\n",
       "1       34.2807\n",
       "2       33.4214\n",
       "3       33.3578\n",
       "4       33.3278\n",
       "         ...   \n",
       "5031    38.9100\n",
       "5032    38.3900\n",
       "5033    36.9150\n",
       "5034    36.6350\n",
       "5035    36.9300\n",
       "Name: price, Length: 5036, dtype: float64"
      ]
     },
     "execution_count": 27,
     "metadata": {},
     "output_type": "execute_result"
    }
   ],
   "source": [
    "x"
   ]
  },
  {
   "cell_type": "markdown",
   "id": "74c9bb75-bfac-4b28-b85b-7f1f3670061b",
   "metadata": {},
   "source": [
    "# value_counts(), is used for counting the occurrence of the each value in column"
   ]
  },
  {
   "cell_type": "code",
   "execution_count": 28,
   "id": "2852e3f7-dc1d-4459-851d-c92e72598d05",
   "metadata": {},
   "outputs": [
    {
     "data": {
      "text/html": [
       "<div>\n",
       "<style scoped>\n",
       "    .dataframe tbody tr th:only-of-type {\n",
       "        vertical-align: middle;\n",
       "    }\n",
       "\n",
       "    .dataframe tbody tr th {\n",
       "        vertical-align: top;\n",
       "    }\n",
       "\n",
       "    .dataframe thead th {\n",
       "        text-align: right;\n",
       "    }\n",
       "</style>\n",
       "<table border=\"1\" class=\"dataframe\">\n",
       "  <thead>\n",
       "    <tr style=\"text-align: right;\">\n",
       "      <th></th>\n",
       "      <th>stock</th>\n",
       "      <th>date</th>\n",
       "      <th>price</th>\n",
       "    </tr>\n",
       "  </thead>\n",
       "  <tbody>\n",
       "    <tr>\n",
       "      <th>0</th>\n",
       "      <td>AAPL</td>\n",
       "      <td>08-02-2013</td>\n",
       "      <td>67.8542</td>\n",
       "    </tr>\n",
       "    <tr>\n",
       "      <th>1</th>\n",
       "      <td>AAPL</td>\n",
       "      <td>11-02-2013</td>\n",
       "      <td>68.5614</td>\n",
       "    </tr>\n",
       "    <tr>\n",
       "      <th>2</th>\n",
       "      <td>AAPL</td>\n",
       "      <td>12-02-2013</td>\n",
       "      <td>66.8428</td>\n",
       "    </tr>\n",
       "    <tr>\n",
       "      <th>3</th>\n",
       "      <td>AAPL</td>\n",
       "      <td>13-02-2013</td>\n",
       "      <td>66.7156</td>\n",
       "    </tr>\n",
       "    <tr>\n",
       "      <th>4</th>\n",
       "      <td>AAPL</td>\n",
       "      <td>14-02-2013</td>\n",
       "      <td>66.6556</td>\n",
       "    </tr>\n",
       "  </tbody>\n",
       "</table>\n",
       "</div>"
      ],
      "text/plain": [
       "  stock        date    price\n",
       "0  AAPL  08-02-2013  67.8542\n",
       "1  AAPL  11-02-2013  68.5614\n",
       "2  AAPL  12-02-2013  66.8428\n",
       "3  AAPL  13-02-2013  66.7156\n",
       "4  AAPL  14-02-2013  66.6556"
      ]
     },
     "execution_count": 28,
     "metadata": {},
     "output_type": "execute_result"
    }
   ],
   "source": [
    "df.head()"
   ]
  },
  {
   "cell_type": "code",
   "execution_count": 33,
   "id": "2ba5c523-d884-4f42-99e6-1a9713c5fdb7",
   "metadata": {},
   "outputs": [
    {
     "data": {
      "text/plain": [
       "stock\n",
       "AAPL    1259\n",
       "SNI     1259\n",
       "TJX     1259\n",
       "ZTS     1259\n",
       "Name: count, dtype: int64"
      ]
     },
     "execution_count": 33,
     "metadata": {},
     "output_type": "execute_result"
    }
   ],
   "source": [
    "df['stock'].value_counts()"
   ]
  },
  {
   "cell_type": "markdown",
   "id": "3d853d13-3cf3-4cd3-a489-35cb5844232b",
   "metadata": {},
   "source": [
    "# sort_values() is used to sort values by column name"
   ]
  },
  {
   "cell_type": "code",
   "execution_count": 34,
   "id": "14a58daf-6395-4486-9cab-30a44e1c2e7a",
   "metadata": {},
   "outputs": [
    {
     "data": {
      "text/html": [
       "<div>\n",
       "<style scoped>\n",
       "    .dataframe tbody tr th:only-of-type {\n",
       "        vertical-align: middle;\n",
       "    }\n",
       "\n",
       "    .dataframe tbody tr th {\n",
       "        vertical-align: top;\n",
       "    }\n",
       "\n",
       "    .dataframe thead th {\n",
       "        text-align: right;\n",
       "    }\n",
       "</style>\n",
       "<table border=\"1\" class=\"dataframe\">\n",
       "  <thead>\n",
       "    <tr style=\"text-align: right;\">\n",
       "      <th></th>\n",
       "      <th>stock</th>\n",
       "      <th>date</th>\n",
       "      <th>price</th>\n",
       "    </tr>\n",
       "  </thead>\n",
       "  <tbody>\n",
       "    <tr>\n",
       "      <th>0</th>\n",
       "      <td>AAPL</td>\n",
       "      <td>08-02-2013</td>\n",
       "      <td>67.8542</td>\n",
       "    </tr>\n",
       "    <tr>\n",
       "      <th>1</th>\n",
       "      <td>AAPL</td>\n",
       "      <td>11-02-2013</td>\n",
       "      <td>68.5614</td>\n",
       "    </tr>\n",
       "    <tr>\n",
       "      <th>2</th>\n",
       "      <td>AAPL</td>\n",
       "      <td>12-02-2013</td>\n",
       "      <td>66.8428</td>\n",
       "    </tr>\n",
       "    <tr>\n",
       "      <th>3</th>\n",
       "      <td>AAPL</td>\n",
       "      <td>13-02-2013</td>\n",
       "      <td>66.7156</td>\n",
       "    </tr>\n",
       "    <tr>\n",
       "      <th>4</th>\n",
       "      <td>AAPL</td>\n",
       "      <td>14-02-2013</td>\n",
       "      <td>66.6556</td>\n",
       "    </tr>\n",
       "  </tbody>\n",
       "</table>\n",
       "</div>"
      ],
      "text/plain": [
       "  stock        date    price\n",
       "0  AAPL  08-02-2013  67.8542\n",
       "1  AAPL  11-02-2013  68.5614\n",
       "2  AAPL  12-02-2013  66.8428\n",
       "3  AAPL  13-02-2013  66.7156\n",
       "4  AAPL  14-02-2013  66.6556"
      ]
     },
     "execution_count": 34,
     "metadata": {},
     "output_type": "execute_result"
    }
   ],
   "source": [
    "df.head()"
   ]
  },
  {
   "cell_type": "code",
   "execution_count": 36,
   "id": "6eba493a-7b59-4485-9a8c-b06f083773c6",
   "metadata": {},
   "outputs": [
    {
     "data": {
      "text/html": [
       "<div>\n",
       "<style scoped>\n",
       "    .dataframe tbody tr th:only-of-type {\n",
       "        vertical-align: middle;\n",
       "    }\n",
       "\n",
       "    .dataframe tbody tr th {\n",
       "        vertical-align: top;\n",
       "    }\n",
       "\n",
       "    .dataframe thead th {\n",
       "        text-align: right;\n",
       "    }\n",
       "</style>\n",
       "<table border=\"1\" class=\"dataframe\">\n",
       "  <thead>\n",
       "    <tr style=\"text-align: right;\">\n",
       "      <th></th>\n",
       "      <th>stock</th>\n",
       "      <th>date</th>\n",
       "      <th>price</th>\n",
       "    </tr>\n",
       "  </thead>\n",
       "  <tbody>\n",
       "    <tr>\n",
       "      <th>4072</th>\n",
       "      <td>ZTS</td>\n",
       "      <td>11-04-2014</td>\n",
       "      <td>28.40</td>\n",
       "    </tr>\n",
       "    <tr>\n",
       "      <th>4073</th>\n",
       "      <td>ZTS</td>\n",
       "      <td>14-04-2014</td>\n",
       "      <td>28.48</td>\n",
       "    </tr>\n",
       "    <tr>\n",
       "      <th>4075</th>\n",
       "      <td>ZTS</td>\n",
       "      <td>16-04-2014</td>\n",
       "      <td>28.53</td>\n",
       "    </tr>\n",
       "    <tr>\n",
       "      <th>4074</th>\n",
       "      <td>ZTS</td>\n",
       "      <td>15-04-2014</td>\n",
       "      <td>28.55</td>\n",
       "    </tr>\n",
       "    <tr>\n",
       "      <th>4076</th>\n",
       "      <td>ZTS</td>\n",
       "      <td>17-04-2014</td>\n",
       "      <td>28.60</td>\n",
       "    </tr>\n",
       "    <tr>\n",
       "      <th>...</th>\n",
       "      <td>...</td>\n",
       "      <td>...</td>\n",
       "      <td>...</td>\n",
       "    </tr>\n",
       "    <tr>\n",
       "      <th>1247</th>\n",
       "      <td>AAPL</td>\n",
       "      <td>23-01-2018</td>\n",
       "      <td>177.04</td>\n",
       "    </tr>\n",
       "    <tr>\n",
       "      <th>1241</th>\n",
       "      <td>AAPL</td>\n",
       "      <td>12-01-2018</td>\n",
       "      <td>177.09</td>\n",
       "    </tr>\n",
       "    <tr>\n",
       "      <th>1245</th>\n",
       "      <td>AAPL</td>\n",
       "      <td>19-01-2018</td>\n",
       "      <td>178.46</td>\n",
       "    </tr>\n",
       "    <tr>\n",
       "      <th>1243</th>\n",
       "      <td>AAPL</td>\n",
       "      <td>17-01-2018</td>\n",
       "      <td>179.10</td>\n",
       "    </tr>\n",
       "    <tr>\n",
       "      <th>1244</th>\n",
       "      <td>AAPL</td>\n",
       "      <td>18-01-2018</td>\n",
       "      <td>179.26</td>\n",
       "    </tr>\n",
       "  </tbody>\n",
       "</table>\n",
       "<p>5036 rows × 3 columns</p>\n",
       "</div>"
      ],
      "text/plain": [
       "     stock        date   price\n",
       "4072   ZTS  11-04-2014   28.40\n",
       "4073   ZTS  14-04-2014   28.48\n",
       "4075   ZTS  16-04-2014   28.53\n",
       "4074   ZTS  15-04-2014   28.55\n",
       "4076   ZTS  17-04-2014   28.60\n",
       "...    ...         ...     ...\n",
       "1247  AAPL  23-01-2018  177.04\n",
       "1241  AAPL  12-01-2018  177.09\n",
       "1245  AAPL  19-01-2018  178.46\n",
       "1243  AAPL  17-01-2018  179.10\n",
       "1244  AAPL  18-01-2018  179.26\n",
       "\n",
       "[5036 rows x 3 columns]"
      ]
     },
     "execution_count": 36,
     "metadata": {},
     "output_type": "execute_result"
    }
   ],
   "source": [
    "df.sort_values(by = 'price')"
   ]
  },
  {
   "cell_type": "code",
   "execution_count": null,
   "id": "93d251b3-a732-4621-8a4d-92467664aca6",
   "metadata": {},
   "outputs": [],
   "source": []
  }
 ],
 "metadata": {
  "kernelspec": {
   "display_name": "Python 3 (ipykernel)",
   "language": "python",
   "name": "python3"
  },
  "language_info": {
   "codemirror_mode": {
    "name": "ipython",
    "version": 3
   },
   "file_extension": ".py",
   "mimetype": "text/x-python",
   "name": "python",
   "nbconvert_exporter": "python",
   "pygments_lexer": "ipython3",
   "version": "3.8.10"
  }
 },
 "nbformat": 4,
 "nbformat_minor": 5
}
